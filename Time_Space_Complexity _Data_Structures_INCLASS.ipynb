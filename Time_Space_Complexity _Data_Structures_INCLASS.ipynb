{
 "cells": [
  {
   "cell_type": "markdown",
   "metadata": {},
   "source": [
    "# Time/Space Complexity - Intro to Data Structures (User Defined)\n",
    "\n",
    "### Topics to discuss today:\n",
    "\n",
    "<ul>\n",
    "    <li>Time and Space Complexity - What is it/How do we measure it</li>\n",
    "    <li>Asymptotic Analysis</li>\n",
    "    <li><strong>Data Structures</strong></li>\n",
    "    <li>Some of the popular sorting algorithms</li>\n",
    "</ul>\n",
    "\n",
    "### Data Structures to discuss:\n",
    "- Arrays\n",
    "- Stacks\n",
    "- Queues\n",
    "- Linked Lists\n",
    "    - Singly Linked Lists\n",
    "    - Traversing A Linked List\n",
    "    - Finding a node in a linked list\n",
    "    - Adding to a linked list\n"
   ]
  },
  {
   "cell_type": "markdown",
   "metadata": {},
   "source": [
    "## Time and Space Complexity\n",
    "\n",
    "#### What is it?\n",
    "\n",
    "Time and space complexity is the measure of how much time a given action(function) will take to solve a problem. In the same fashion, we determine how much a given data structure will need in terms of memory allocation. A problem can have multiple solutions and finding the optimal solution for the problem needs to be analyzed in time and space.\n",
    "\n",
    "#### How do we measure Time and Space Complexity?\n",
    "\n",
    "In order to measure time and space complexity we use Asymptotic analysis. The reason for this is because we need a way to measure different algorithms (functions) based on the size of their inputs in a mathmatical way. For example, we could have a function that is computed as f(n) and another that is g(n^2). All things around the function staying constant, the only thing that changes is the size of the input. Below is the chart that shows the different Asymptotic analysis formats. "
   ]
  },
  {
   "cell_type": "markdown",
   "metadata": {},
   "source": [
    "<table style=\"text-align:center;\" class=\"table table-bordered\">\n",
    "<tbody><tr>\n",
    "<td>constant</td>\n",
    "<td>−</td>\n",
    "<td>Ο(1)</td>\n",
    "</tr>\n",
    "<tr>\n",
    "<td>logarithmic</td>\n",
    "<td>−</td>\n",
    "<td>Ο(log n)</td>\n",
    "</tr>\n",
    "<tr>\n",
    "<td>linear</td>\n",
    "<td>−</td>\n",
    "<td>Ο(n)</td>\n",
    "</tr>\n",
    "<tr>\n",
    "<td>Linear Logarithmic</td>\n",
    "<td>−</td>\n",
    "<td>Ο(n log n)</td>\n",
    "</tr>\n",
    "<tr>\n",
    "<td>quadratic</td>\n",
    "<td>−</td>\n",
    "<td>Ο(n<sup>2</sup>)</td>\n",
    "</tr>\n",
    "<tr>\n",
    "<td>cubic</td>\n",
    "<td>−</td>\n",
    "<td>Ο(n<sup>3</sup>)</td>\n",
    "</tr>\n",
    "<tr>\n",
    "<td>polynomial</td>\n",
    "<td>−</td>\n",
    "<td>n<sup>Ο(1)</sup></td>\n",
    "</tr>\n",
    "<tr>\n",
    "<td>exponential</td>\n",
    "<td>−</td>\n",
    "<td>2<sup>Ο(n)</sup></td>\n",
    "</tr>\n",
    "</tbody></table>"
   ]
  },
  {
   "cell_type": "markdown",
   "metadata": {},
   "source": [
    "## Arrays"
   ]
  },
  {
   "cell_type": "markdown",
   "metadata": {},
   "source": [
    "In python we benefit from the dynamic array which means the block of memory will expand as needed for the given input to the array. In traditional arrays (depending on the type of operating system) we will usually store our inputs in 4 or 8 consecutive blocks of memory. Below is a diagram of how that looks under the hood:\n",
    "\n",
    "<img src=\"http://www.mathcs.emory.edu/~cheung/Courses/170/Syllabus/09/FIGS/array02x.gif\" style=\"height:250px; width:350px;\">"
   ]
  },
  {
   "cell_type": "markdown",
   "metadata": {},
   "source": [
    "## Which in python looks like this:"
   ]
  },
  {
   "cell_type": "code",
   "execution_count": 2,
   "metadata": {},
   "outputs": [
    {
     "name": "stdout",
     "output_type": "stream",
     "text": [
      "[23, 4, 6, 15, 7, 7, 23]\n"
     ]
    }
   ],
   "source": [
    "# output = [] # in other languages, array must be predetermined\n",
    "# if True:\n",
    "#     output.append()\n",
    "\n",
    "array = [23, 4, 6, 15, 7, 7, 23]\n",
    "print(array)"
   ]
  },
  {
   "cell_type": "markdown",
   "metadata": {},
   "source": [
    "### Let's take a look at some of the time and space analysis of arrays"
   ]
  },
  {
   "cell_type": "code",
   "execution_count": 4,
   "metadata": {},
   "outputs": [
    {
     "name": "stdout",
     "output_type": "stream",
     "text": [
      "23\n",
      "4\n",
      "6\n",
      "15\n",
      "7\n",
      "7\n",
      "23\n"
     ]
    }
   ],
   "source": [
    "# indexing an array (list)\n",
    "# constant time and constant space O(1)\n",
    "indexing = array[3]\n",
    "\n",
    "# searching through an array (list)\n",
    "# linear time O(n) and constant space O(1)\n",
    "for i in array:\n",
    "    print(i)\n",
    "\n",
    "# copying an array\n",
    "# linear time and linear space O(n)\n",
    "copy = array[:]\n",
    "\n",
    "# setting an index in an array (list)\n",
    "# constant time and constant space O(1)\n",
    "array[-1] = 33\n",
    "\n"
   ]
  },
  {
   "cell_type": "markdown",
   "metadata": {},
   "source": [
    "## Stacks and Queues\n",
    "\n",
    "** Stacks ** as the name suggests is a data structure that allows for data to follow the Last In First Out priciple(LIFO). Think of a stack of pancakes for example. To get the first pancake you would  start with the top and go down.\n",
    "\n",
    "##### Searching through a stack will be Linear Time O(n) - Constant Space O(1)\n",
    "##### Selecting the last item will be done in Constant Time O(1) - Constant Space O(1)\n",
    "##### Adding to the stack should take Constant Time O(1) - Constant Space O(1)\n",
    "\n",
    "** Queues ** are similar but in this case follow the First In First Out principle(FIFO). Think of this as a line in a black friday sale. The first person camped out for the big screen tv is the first to get it.\n",
    "\n",
    "##### Searching through a queue will be Linear Time O(n) - Constant Space O(1)\n",
    "##### Selecting the first item will be done in Constant Time O(1) - Constant Space O(1)\n",
    "##### Adding to the queue should take Constant Time O(1) - Constant Space O(1)"
   ]
  },
  {
   "cell_type": "code",
   "execution_count": 10,
   "metadata": {},
   "outputs": [
    {
     "name": "stdout",
     "output_type": "stream",
     "text": [
      "[10, 20, 30]\n",
      "30\n",
      "[10, 20]\n",
      "['Bob', 'Misty', 'Ash']\n",
      "['Misty', 'Ash']\n",
      "['Ash']\n"
     ]
    }
   ],
   "source": [
    "stack = []\n",
    "stack.append(10)\n",
    "stack.append(20)\n",
    "stack.append(30)\n",
    "\n",
    "# LIFO\n",
    "print(stack)\n",
    "\n",
    "last_item = stack.pop()\n",
    "print(last_item)\n",
    "print(stack)\n",
    "\n",
    "# searching a stack - -linear time O(n) AND constant space O(1)\n",
    "\n",
    "queue = []\n",
    "queue.append(\"Bob\")\n",
    "queue.append(\"Misty\")\n",
    "queue.append(\"Ash\")\n",
    "print(queue)\n",
    "first_person = queue.pop(0)\n",
    "print(queue)\n",
    "next_person = queue.pop(0)\n",
    "print(queue)\n"
   ]
  },
  {
   "cell_type": "markdown",
   "metadata": {},
   "source": [
    "## Linked List (Data Structure)\n",
    "\n",
    "A linked list is created by using the node class. We create a Node object and create another class to use this node object. We pass the appropriate values thorugh the node object to point the to the next data elements.\n",
    "\n",
    "There are some advantages and disadvantages with this data structure. **Advantages** Linked Lists can save memory because they can be flexibile with memory management which saves memory. **Disadvantages** Finding or adding to the list requires traversing the entire list."
   ]
  },
  {
   "cell_type": "code",
   "execution_count": 11,
   "metadata": {},
   "outputs": [
    {
     "name": "stdout",
     "output_type": "stream",
     "text": [
      "Mon\n",
      "Tue\n",
      "Wed\n"
     ]
    }
   ],
   "source": [
    "class LinkedListNode():\n",
    "    def __init__(self, value):\n",
    "        self.val = value\n",
    "        self.next = None\n",
    "\n",
    "    def traverse(self):\n",
    "        node = self\n",
    "        while node != None:\n",
    "            print(node.val)\n",
    "            node = node.next\n",
    "\n",
    "\n",
    "node1 = LinkedListNode(\"Mon\")\n",
    "node2 = LinkedListNode(\"Tue\")\n",
    "node3 = LinkedListNode(\"Wed\")\n",
    "\n",
    "node1.next = node2\n",
    "node2.next = node3\n",
    "\n",
    "node1.traverse()\n",
    "\n",
    "\n"
   ]
  },
  {
   "cell_type": "code",
   "execution_count": 14,
   "metadata": {},
   "outputs": [
    {
     "name": "stdout",
     "output_type": "stream",
     "text": [
      "Mon\n",
      "Tue\n",
      "Wed\n",
      "Thu\n",
      "Fri\n"
     ]
    }
   ],
   "source": [
    "# complete implementation of a linked list\n",
    "\n",
    "# 2 components to this solution - a node class and a linked list class\n",
    "\n",
    "class Node():\n",
    "    def __init__(self, value):\n",
    "        self.val = value\n",
    "        self.next = None\n",
    "\n",
    "class LinkedList():\n",
    "    def __init__(self):\n",
    "        self.head = None\n",
    "\n",
    "    def prepend(self, new_value):\n",
    "        new_node = Node(new_value)\n",
    "        new_node.next = self.head\n",
    "        self.head = new_node\n",
    "\n",
    "\n",
    "    def insertAfter(self, prev_node, new_value):\n",
    "        # check if the previous node even exists\n",
    "        if prev_node is None:\n",
    "            print(\"The given node must not be empty.\")\n",
    "            return\n",
    "        new_node = Node(new_value)\n",
    "\n",
    "        # make sure following nodes are attached to newly inserted nodes first\n",
    "        new_node.next = prev_node.next\n",
    "        prev_node.next = new_node\n",
    "\n",
    "    def append(self, new_value):\n",
    "        new_node = Node(new_value)\n",
    "        # check if linked list is empty\n",
    "        # if it is, make this new node the head\n",
    "        if self.head is None:\n",
    "            self.head = new_node\n",
    "            return\n",
    "        \n",
    "        last = self.head\n",
    "        while last.next:\n",
    "            last = last.next\n",
    "\n",
    "        last.next = new_node\n",
    "\n",
    "    def traverse(self):\n",
    "        temp = self.head\n",
    "        while temp:\n",
    "            print(temp.val)\n",
    "            temp = temp.next\n",
    "\n",
    "days = LinkedList()\n",
    "days.prepend(\"Tue\")\n",
    "days.prepend(\"Mon\")\n",
    "days.append(\"Wed\")\n",
    "days.append(\"Fri\")\n",
    "days.insertAfter(days.head.next.next, \"Thu\")\n",
    "days.traverse()\n"
   ]
  },
  {
   "cell_type": "markdown",
   "metadata": {},
   "source": [
    "## Binary Search Trees"
   ]
  },
  {
   "cell_type": "code",
   "execution_count": 25,
   "metadata": {},
   "outputs": [
    {
     "name": "stdout",
     "output_type": "stream",
     "text": [
      "4\n",
      "20\n",
      "19\n",
      "None\n",
      "6\n",
      "19\n",
      "None\n"
     ]
    }
   ],
   "source": [
    "# right is >=\n",
    "# left is <\n",
    "\n",
    "class BST():\n",
    "    def __init__(self, value):\n",
    "        self.val = value\n",
    "        self.left = None\n",
    "        self.right = None\n",
    "\n",
    "    def insert(self, new_value):\n",
    "        if new_value < self.val: # moves left\n",
    "            if self.left is None:\n",
    "                self.left = BST(new_value)\n",
    "            else:\n",
    "                self.left.insert(new_value)\n",
    "\n",
    "        else: # moves right\n",
    "            if self.right is None:\n",
    "                self.right = BST(new_value)\n",
    "            else:\n",
    "                self.right.insert(new_value)\n",
    "\n",
    "    def contains(self, value):\n",
    "        if value < self.val: # less than (left)\n",
    "            if self.left is None:\n",
    "                return False\n",
    "            else:\n",
    "                return self.left.contains(value)\n",
    "        elif value > self.val: # greater than (right)\n",
    "            if self.right is None:\n",
    "                return False\n",
    "            else:\n",
    "                return self.right.contains(value)\n",
    "        else: # equal to (found answer)\n",
    "            return True\n",
    "\n",
    "    def getMin(self):\n",
    "        if self.left is None:\n",
    "            return self.val\n",
    "        return self.left.getMin()\n",
    "\n",
    "    def getMax(self):\n",
    "        if self.right is None:\n",
    "            return self.val\n",
    "        return self.right.getMax()\n",
    "\n",
    "    def remove(self, value, parent = None):\n",
    "        if value < self.val: # left\n",
    "            if self.left is not None: # there is still a way to go\n",
    "                self.left.remove(value, self) # parent will no longer be none, parent will be self\n",
    "        elif value > self.val: # right\n",
    "            if self.right is not None:\n",
    "                self.right.remove(value, self)\n",
    "        else: # found what I am trying to remove\n",
    "            if self.left is not None and self.right is not None:\n",
    "                self.val = self.right.getMin()\n",
    "                self.right.remove(self.val, self)\n",
    "            elif parent is None:\n",
    "                if self.left is not None:\n",
    "                    self.val = self.left.val\n",
    "                    self.right = self.left.right\n",
    "                    self.left = self.left.left\n",
    "                elif self.right is not None:\n",
    "                    self.val = self.right.val\n",
    "                    self.right = self.right.right\n",
    "                    self.left = self.right.left\n",
    "                else:\n",
    "                    self.val = None\n",
    "            elif parent.left is self: # == is checking for equality, is checks for reference and placement\n",
    "                parent.left = self.left if self.left else self.right # set parent's left to my left if my left exists otherwise set it to my right\n",
    "            elif parent.right is self:\n",
    "                parent.right = self.left if self.left else self.right\n",
    "\n",
    "\n",
    "bst = BST(15)\n",
    "bst.insert(10)\n",
    "bst.insert(20)\n",
    "bst.insert(18)\n",
    "bst.insert(17)\n",
    "bst.insert(19)\n",
    "bst.insert(7)\n",
    "bst.insert(6)\n",
    "bst.insert(4)\n",
    "\n",
    "print(bst.getMin())\n",
    "print(bst.getMax())\n",
    "print(bst.right.left.right.val)\n",
    "print(bst.left.right)\n",
    "\n",
    "bst.remove(4)\n",
    "print(bst.getMin())\n",
    "bst.remove(18)\n",
    "print(bst.right.left.val)\n",
    "print(bst.right.left.right)"
   ]
  },
  {
   "cell_type": "code",
   "execution_count": 19,
   "metadata": {},
   "outputs": [
    {
     "name": "stdout",
     "output_type": "stream",
     "text": [
      "<__main__.ROICalc object at 0x0000017C019F8400>\n"
     ]
    }
   ],
   "source": [
    "# OOP project\n",
    "# will probably use classes, methods, and functions\n",
    "# four square method\n",
    "\n",
    "class ROICalc():\n",
    "\n",
    "    def __init__(self, income = {}, expenses = {}): #anything called in this class is available everywhere else - in this case: income and expenses\n",
    "        self.inc = income\n",
    "        self.exp = expenses\n",
    "\n",
    "    def rentIncome(self): # rental income - $2000/mon | total monthly income = $2k/mon\n",
    "        # we want the income to be whatever the inputted income is\n",
    "        return f\"Your monthly income is {self.inc}\" # testing code, currently only printing memory location, not the value - can fix by using __str__ or __repr__\n",
    "\n",
    "    def expenses(self): # cost of owning the property\n",
    "        # tax ($150/mon), insurance ($100), utilities ($0) (electric, hydro, garbo, gas, sewer), HOA ($0), lawn/snow care ($0), vacancy ($100), repairs ($100)\n",
    "        # capital expenditures (saving up for big things like a new roof/water heater/big items) - price will depend on quality (if/else) ($100/mon)\n",
    "        # property management ($200/mon), and mortgage ($160000 @ 5% int = $860/mon) = total monthly expenses: $1610\n",
    "        # might need to break these up into different methods or functions\n",
    "        pass\n",
    "\n",
    "    def cashFlow(self):\n",
    "        # income - expenses (2000 - 1610 = 390) total monthly cash flow = 390\n",
    "        pass\n",
    "\n",
    "    def cashOnCashROI(self):\n",
    "        # what return on your cash flow are you getting (how much money you put in and how much you get back)\n",
    "        # add up all money you put in (down payment ($40000), closing costs ($3000), rehab budget ($7000), misc ($0)) to get total investment ($50000)\n",
    "        # figure out cashOnCashROI, take annual cash flow (monthly cashflow by 12 = 390 x 12 = 4680) and divide by total investment (4680/50000 = 9.36% (to make a percentage multiply this by 100))\n",
    "        # cash on cash ROI is 9.36%\n",
    "        pass\n",
    "\n",
    "\n",
    "# how to call the classes and methods properly:\n",
    "test = ROICalc(40000, 90000)\n",
    "test.rentIncome()\n",
    "print(test)"
   ]
  }
 ],
 "metadata": {
  "kernelspec": {
   "display_name": "Python 3.9.13 64-bit",
   "language": "python",
   "name": "python3"
  },
  "language_info": {
   "codemirror_mode": {
    "name": "ipython",
    "version": 3
   },
   "file_extension": ".py",
   "mimetype": "text/x-python",
   "name": "python",
   "nbconvert_exporter": "python",
   "pygments_lexer": "ipython3",
   "version": "3.9.13"
  },
  "vscode": {
   "interpreter": {
    "hash": "08e595c52ca3b9470036b1110e67b559e55f367cabc363f2e28d35631ed95060"
   }
  }
 },
 "nbformat": 4,
 "nbformat_minor": 2
}
